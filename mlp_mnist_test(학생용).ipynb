{
  "cells": [
    {
      "cell_type": "markdown",
      "metadata": {
        "id": "view-in-github",
        "colab_type": "text"
      },
      "source": [
        "<a href=\"https://colab.research.google.com/github/82938287/.github/blob/main/mlp_mnist_test(%ED%95%99%EC%83%9D%EC%9A%A9).ipynb\" target=\"_parent\"><img src=\"https://colab.research.google.com/assets/colab-badge.svg\" alt=\"Open In Colab\"/></a>"
      ]
    },
    {
      "cell_type": "markdown",
      "metadata": {
        "id": "tEYSt7EuLa00"
      },
      "source": [
        "# **[해보기-①] MNIST 데이터 준비**"
      ]
    },
    {
      "cell_type": "code",
      "execution_count": null,
      "metadata": {
        "id": "5rr6OE-nLdlp"
      },
      "outputs": [],
      "source": [
        "from sklearn.datasets import fetch_openml # scikit-learn모듈에서 ML용 학습데이타, MNIST를 읽기 위한 함수 import\n",
        "\n",
        "mnist= fetch_openml('mnist_784', as_frame=False) # mnist데이타 읽어들여 mnist변수에 배정, numpy type으로 읽기\n",
        "print(mnist.data.shape, mnist.target.shape)\n"
      ]
    },
    {
      "cell_type": "code",
      "source": [],
      "metadata": {
        "id": "eqbZNVmqVXoO"
      },
      "execution_count": null,
      "outputs": []
    },
    {
      "cell_type": "markdown",
      "metadata": {
        "id": "HcUoF4kyL7h8"
      },
      "source": [
        "# **[해보기-②③] MNIST 데이터 세트 속성과 속성 레이블 확인**"
      ]
    },
    {
      "cell_type": "code",
      "execution_count": null,
      "metadata": {
        "id": "M9pGtUIEL9b3"
      },
      "outputs": [],
      "source": [
        "import numpy as np\n",
        "print(mnist.feature_names)     # MNIST 속성 이름 출력\n",
        "print(np.unique(mnist.target)) # MNIST 레이블의 클래스(레이블) 출력\n",
        "print(type(mnist.data))        # MNIST 데이터의 타입\n",
        "print(mnist.data[150])   # 151번째 MNIST 데이터값\n",
        "print(mnist.target[150]) # 151번째 MNIST 데이터의 레이블값\n",
        "print(type(mnist.target))      # MNIST 데이터의 레이블의 타입"
      ]
    },
    {
      "cell_type": "markdown",
      "metadata": {
        "id": "xYF6K16NMQsl"
      },
      "source": [
        "# **[해보기-④⑤⑥] pyplot을 이용하여 201번째 MNIST 데이터 이미지로 읽기 및 레이블 값 보기**"
      ]
    },
    {
      "cell_type": "code",
      "execution_count": null,
      "metadata": {
        "id": "_mWzMqCZMSVe"
      },
      "outputs": [],
      "source": [
        "import matplotlib.pyplot as plt\n",
        "n = 150                            # 데이터 세트 중 201번째 데이터\n",
        "image = mnist.data[n].reshape(28, 28)           # 28행, 28열로 형태 변경\n",
        "plt.subplot(1,2,1)                                  # 1행 2열의 첫 번째 그림으로\n",
        "plt.imshow(image, cmap='gray')                                 # 흑백 그림으로 표현\n",
        "plt.subplot(1,2,2)                    # 1행 2열의 두 번째 그림으로\n",
        "plt.imshow(image, cmap='gray_r')      # 흑백 그림으로 표현 (reverse)\n",
        "plt.title(mnist.target[n])            # 10번째 데이터의 레이블 출력\n",
        "plt.show()                            # 그림 표시"
      ]
    },
    {
      "cell_type": "markdown",
      "source": [],
      "metadata": {
        "id": "t3LVLVrNhB3Y"
      }
    },
    {
      "cell_type": "markdown",
      "metadata": {
        "id": "eegqsGOtMcm5"
      },
      "source": [
        "# **[해보기] MNIST 데이터 여러개(11부터 9개)를 이미지로 보기**"
      ]
    },
    {
      "cell_type": "code",
      "execution_count": null,
      "metadata": {
        "id": "t-furkvFMgoM"
      },
      "outputs": [],
      "source": [
        "import matplotlib.pyplot as plt\n",
        "\n",
        "n=10                         # 데이터 세트에서 시작 위치\n",
        "plt.figure(figsize=(5,5))    # 그림 크기 설정\n",
        "\n",
        "for i in range(9):           # 9번 반복 (0에서 8까지)\n",
        "    plt.subplot(3,3,i+1)     # 3x3 그림 중 i+1번째 하위 그림 지정\n",
        "    plt.imshow(mnist.data[n+i].reshape(28,28),'gray')    # n+i번째 데이터 28x28 형태로 수정 후 보이기\n",
        "    plt.title(mnist.target[n+i])  # n+i번째 데이터 레이블을 제목으로 설정\n",
        "    plt.axis('off')               # 축값 표기는 off로\n",
        "plt.show()                        # 그림 표시"
      ]
    },
    {
      "cell_type": "markdown",
      "metadata": {
        "id": "IYPFUPE3M4tV"
      },
      "source": [
        "# **[해보기-⑦] MNIST데이터(7만개)를 훈련 데이터(70%)와 테스트 데이터(30%) 나누기**"
      ]
    },
    {
      "cell_type": "code",
      "execution_count": null,
      "metadata": {
        "id": "i6Nlx38cM6z0"
      },
      "outputs": [],
      "source": [
        "from sklearn.model_selection import train_test_split        # train_test_split 불러오기\n",
        "X_train, X_test, y_train, y_test = train_test_split(mnist.data,            # train_test_split 실행, data, target\n",
        "                                     mnist.target,\n",
        "                                     test_size=0.3,           # 비율: 0.3\n",
        "                                     stratify=mnist.target)   # 레이블별 비율 맞춤\n",
        "\n",
        "print(X_train.shape, X_test.shape, y_train.shape, y_test.shape) #각 형태 출력"
      ]
    },
    {
      "cell_type": "markdown",
      "metadata": {
        "id": "-_70eTJkNnI-"
      },
      "source": [
        "# **[해보기-⑧] MLP(multilayer perceptron)의 구조만들기, 입력층, 은닉층, 출력층 구성하기**"
      ]
    },
    {
      "cell_type": "code",
      "execution_count": null,
      "metadata": {
        "id": "l0P3H_eZNp3i"
      },
      "outputs": [],
      "source": [
        "from sklearn.neural_network import MLPClassifier  # MLPClassifier 가져오기\n",
        "model = MLPClassifier(hidden_layer_sizes=(50),             # 은닉 층 50 노드\n",
        "             activation='relu',              # 활성화 함수 'relu'\n",
        "             solver='adam',              # 최적화 함수 ‘adam'\n",
        "             max_iter=20,              # 반복 학습 20 회\n",
        "             verbose=1)     # 학습 과정이 보이도록 설정"
      ]
    },
    {
      "cell_type": "markdown",
      "metadata": {
        "id": "0wSdr7n4OBpf"
      },
      "source": [
        "# **[해보기] 위에서 구성한 모델을 이용하여 MNIST 데이터를 학습**"
      ]
    },
    {
      "cell_type": "code",
      "execution_count": null,
      "metadata": {
        "id": "xen3vSWIODOG"
      },
      "outputs": [],
      "source": [
        "model.fit(X_train, y_train)   # 손실률은 학습할 때마다 달라질 수 있음."
      ]
    },
    {
      "cell_type": "markdown",
      "metadata": {
        "id": "XeVOcAQPOVu2"
      },
      "source": [
        "# **epoch당 손실률(오차,Loss)의 변화 시각화**"
      ]
    },
    {
      "cell_type": "code",
      "execution_count": null,
      "metadata": {
        "id": "RpzCn3lUOcmx"
      },
      "outputs": [],
      "source": [
        "import matplotlib.pyplot as plt\n",
        "\n",
        "loss_values = model.loss_curve_              # 모델의 손실률 저장\n",
        "line_x = np.arange(1, len(loss_values)+1)    # 저장된 손실률 개수만큼 x축 생성\n",
        "plt.plot(line_x, loss_values, 'r')           # 반복 학습 별 손실률 그리기\n",
        "plt.xlabel('epochs')\n",
        "plt.ylabel('loss')\n",
        "plt.show()"
      ]
    },
    {
      "cell_type": "markdown",
      "metadata": {
        "id": "WDmsDHytOzCR"
      },
      "source": [
        "# **[해보기-⑩] 학습한 모델의 MNIST 분류 성능 평가**"
      ]
    },
    {
      "cell_type": "code",
      "execution_count": null,
      "metadata": {
        "id": "jNzwsUCDO2M_"
      },
      "outputs": [],
      "source": [
        "print(\"Train set score: \", model.score(X_train, y_train))                              # 훈련용 데이터 정확도 평가\n",
        "print(\"Test set score: \", model.score(X_test, y_test))     # 검증용 데이터 정확도 평가"
      ]
    },
    {
      "cell_type": "markdown",
      "metadata": {
        "id": "bRF43rGmO-FL"
      },
      "source": [
        "## **MNIST 분류 모델의 학습 곡선 (SKIP)**"
      ]
    },
    {
      "cell_type": "code",
      "execution_count": 11,
      "metadata": {
        "colab": {
          "base_uri": "https://localhost:8080/",
          "height": 1000
        },
        "id": "egZ6esREPART",
        "outputId": "855e3b93-7e80-4671-ba06-ce6f32f5fa3b"
      },
      "outputs": [
        {
          "output_type": "stream",
          "name": "stdout",
          "text": [
            "Iteration 1, loss = 13.89916867\n",
            "Iteration 2, loss = 4.11999175\n",
            "Iteration 3, loss = 2.48066654\n",
            "Iteration 4, loss = 1.66505075\n",
            "Iteration 5, loss = 1.21023287\n",
            "Iteration 6, loss = 0.89751564\n",
            "Iteration 7, loss = 0.52839849\n",
            "Iteration 8, loss = 0.35329624\n",
            "Iteration 9, loss = 0.34752791\n",
            "Iteration 10, loss = 0.23708002\n",
            "Iteration 11, loss = 0.11748247\n",
            "Iteration 12, loss = 0.06825941\n",
            "Iteration 13, loss = 0.04610613\n",
            "Iteration 14, loss = 0.02230399\n",
            "Iteration 15, loss = 0.02863593\n",
            "Iteration 16, loss = 0.01720981\n",
            "Iteration 17, loss = 0.00933563\n",
            "Iteration 18, loss = 0.00488414\n",
            "Iteration 19, loss = 0.01184569\n",
            "Iteration 20, loss = 0.00650364\n",
            "Iteration 21, loss = 0.00641240\n",
            "Iteration 22, loss = 0.00738719\n",
            "Iteration 23, loss = 0.00354263\n",
            "Iteration 24, loss = 0.00298775\n",
            "Iteration 25, loss = 0.00506378\n",
            "Iteration 26, loss = 0.00094862\n",
            "Iteration 27, loss = 0.00133621\n",
            "Iteration 28, loss = 0.00077892\n",
            "Iteration 29, loss = 0.00096912\n",
            "Iteration 30, loss = 0.00614155\n",
            "Iteration 31, loss = 0.01505881\n",
            "Iteration 32, loss = 0.00504534\n",
            "Iteration 33, loss = 0.00771948\n",
            "Iteration 34, loss = 0.01799944\n",
            "Iteration 35, loss = 0.01134374\n",
            "Iteration 36, loss = 0.02982110\n",
            "Iteration 37, loss = 0.06490725\n",
            "Iteration 38, loss = 0.10247867\n",
            "Iteration 39, loss = 0.17740960\n",
            "Training loss did not improve more than tol=0.000100 for 10 consecutive epochs. Stopping.\n",
            "Iteration 1, loss = 10.89335739\n",
            "Iteration 2, loss = 3.15990931\n",
            "Iteration 3, loss = 2.01014693\n",
            "Iteration 4, loss = 1.37125702\n",
            "Iteration 5, loss = 0.96181735\n",
            "Iteration 6, loss = 0.69955177\n",
            "Iteration 7, loss = 0.55308852\n",
            "Iteration 8, loss = 0.36632862\n",
            "Iteration 9, loss = 0.30255658\n",
            "Iteration 10, loss = 0.24840491\n",
            "Iteration 11, loss = 0.18663144\n",
            "Iteration 12, loss = 0.14225601\n",
            "Iteration 13, loss = 0.09913895\n",
            "Iteration 14, loss = 0.06951561\n",
            "Iteration 15, loss = 0.05627471\n",
            "Iteration 16, loss = 0.04236569\n",
            "Iteration 17, loss = 0.04067664\n",
            "Iteration 18, loss = 0.03305340\n",
            "Iteration 19, loss = 0.01527178\n",
            "Iteration 20, loss = 0.04077857\n",
            "Iteration 21, loss = 0.02475181\n",
            "Iteration 22, loss = 0.00922412\n",
            "Iteration 23, loss = 0.01217876\n",
            "Iteration 24, loss = 0.02556228\n",
            "Iteration 25, loss = 0.03376492\n",
            "Iteration 26, loss = 0.02932407\n",
            "Iteration 27, loss = 0.01055107\n",
            "Iteration 28, loss = 0.02113470\n",
            "Iteration 29, loss = 0.03545246\n",
            "Iteration 30, loss = 0.06777667\n",
            "Iteration 31, loss = 0.06895136\n",
            "Iteration 32, loss = 0.08687786\n",
            "Iteration 33, loss = 0.08976111\n",
            "Training loss did not improve more than tol=0.000100 for 10 consecutive epochs. Stopping.\n",
            "Iteration 1, loss = 7.18013672\n",
            "Iteration 2, loss = 2.15110398\n",
            "Iteration 3, loss = 1.30097885\n",
            "Iteration 4, loss = 0.83464990\n",
            "Iteration 5, loss = 0.56592161\n",
            "Iteration 6, loss = 0.40684917\n",
            "Iteration 7, loss = 0.29877809\n",
            "Iteration 8, loss = 0.22229420\n",
            "Iteration 9, loss = 0.18255605\n",
            "Iteration 10, loss = 0.14063483\n",
            "Iteration 11, loss = 0.10214972\n",
            "Iteration 12, loss = 0.07084239\n",
            "Iteration 13, loss = 0.06995660\n",
            "Iteration 14, loss = 0.05476437\n",
            "Iteration 15, loss = 0.06017051\n",
            "Iteration 16, loss = 0.05531304\n",
            "Iteration 17, loss = 0.06234449\n",
            "Iteration 18, loss = 0.05731034\n",
            "Iteration 19, loss = 0.04007654\n",
            "Iteration 20, loss = 0.03080247\n",
            "Iteration 21, loss = 0.02255688\n",
            "Iteration 22, loss = 0.02560679\n",
            "Iteration 23, loss = 0.02961014\n",
            "Iteration 24, loss = 0.03533775\n",
            "Iteration 25, loss = 0.03091232\n",
            "Iteration 26, loss = 0.04041703\n",
            "Iteration 27, loss = 0.06305603\n",
            "Iteration 28, loss = 0.06426811\n",
            "Iteration 29, loss = 0.08669220\n",
            "Iteration 30, loss = 0.08874479\n",
            "Iteration 31, loss = 0.10959669\n",
            "Iteration 32, loss = 0.08798794\n",
            "Training loss did not improve more than tol=0.000100 for 10 consecutive epochs. Stopping.\n",
            "Iteration 1, loss = 7.24710776\n",
            "Iteration 2, loss = 2.10419677\n",
            "Iteration 3, loss = 1.36547557\n",
            "Iteration 4, loss = 0.90288921\n",
            "Iteration 5, loss = 0.64726230\n",
            "Iteration 6, loss = 0.45831714\n",
            "Iteration 7, loss = 0.34742845\n",
            "Iteration 8, loss = 0.26813723\n",
            "Iteration 9, loss = 0.20038357\n",
            "Iteration 10, loss = 0.16419479\n",
            "Iteration 11, loss = 0.11567481\n",
            "Iteration 12, loss = 0.06662893\n",
            "Iteration 13, loss = 0.07177849\n",
            "Iteration 14, loss = 0.07036558\n",
            "Iteration 15, loss = 0.06459933\n",
            "Iteration 16, loss = 0.08168150\n",
            "Iteration 17, loss = 0.08937776\n",
            "Iteration 18, loss = 0.08450833\n",
            "Iteration 19, loss = 0.10324677\n",
            "Iteration 20, loss = 0.07987175\n",
            "Iteration 21, loss = 0.08566386\n",
            "Iteration 22, loss = 0.06261728\n",
            "Iteration 23, loss = 0.07313656\n",
            "Iteration 24, loss = 0.06502032\n",
            "Iteration 25, loss = 0.04167294\n",
            "Iteration 26, loss = 0.06201463\n",
            "Iteration 27, loss = 0.08897954\n",
            "Iteration 28, loss = 0.10009988\n",
            "Iteration 29, loss = 0.11166085\n",
            "Iteration 30, loss = 0.13043281\n",
            "Iteration 31, loss = 0.08826334\n",
            "Iteration 32, loss = 0.08728083\n",
            "Iteration 33, loss = 0.09065208\n",
            "Iteration 34, loss = 0.08462873\n",
            "Iteration 35, loss = 0.11579448\n",
            "Iteration 36, loss = 0.08067389\n",
            "Training loss did not improve more than tol=0.000100 for 10 consecutive epochs. Stopping.\n",
            "Iteration 1, loss = 5.10848969\n",
            "Iteration 2, loss = 1.57077919\n",
            "Iteration 3, loss = 0.93372474\n",
            "Iteration 4, loss = 0.60268868\n",
            "Iteration 5, loss = 0.39390975\n",
            "Iteration 6, loss = 0.28689113\n",
            "Iteration 7, loss = 0.20817663\n",
            "Iteration 8, loss = 0.14966257\n",
            "Iteration 9, loss = 0.13957061\n",
            "Iteration 10, loss = 0.10564542\n",
            "Iteration 11, loss = 0.09579724\n",
            "Iteration 12, loss = 0.08114383\n",
            "Iteration 13, loss = 0.06331774\n",
            "Iteration 14, loss = 0.05867232\n",
            "Iteration 15, loss = 0.08061228\n",
            "Iteration 16, loss = 0.08771124\n",
            "Iteration 17, loss = 0.08067421\n",
            "Iteration 18, loss = 0.07355335\n",
            "Iteration 19, loss = 0.08086548\n",
            "Iteration 20, loss = 0.05464944\n",
            "Iteration 21, loss = 0.07059078\n",
            "Iteration 22, loss = 0.07663668\n",
            "Iteration 23, loss = 0.07097493\n",
            "Iteration 24, loss = 0.09191611\n",
            "Iteration 25, loss = 0.06904983\n",
            "Iteration 26, loss = 0.06154522\n",
            "Iteration 27, loss = 0.08502449\n",
            "Iteration 28, loss = 0.07957913\n",
            "Iteration 29, loss = 0.08045232\n",
            "Iteration 30, loss = 0.07390150\n",
            "Iteration 31, loss = 0.09662702\n",
            "Training loss did not improve more than tol=0.000100 for 10 consecutive epochs. Stopping.\n",
            "Iteration 1, loss = 4.96428362\n",
            "Iteration 2, loss = 1.62815845\n",
            "Iteration 3, loss = 1.01962981\n",
            "Iteration 4, loss = 0.67128565\n",
            "Iteration 5, loss = 0.49059462\n",
            "Iteration 6, loss = 0.34085333\n",
            "Iteration 7, loss = 0.26285256\n",
            "Iteration 8, loss = 0.21481178\n",
            "Iteration 9, loss = 0.14971976\n",
            "Iteration 10, loss = 0.13395240\n",
            "Iteration 11, loss = 0.11381601\n",
            "Iteration 12, loss = 0.11802138\n",
            "Iteration 13, loss = 0.09559812\n",
            "Iteration 14, loss = 0.07900408\n",
            "Iteration 15, loss = 0.11766664\n",
            "Iteration 16, loss = 0.07670261\n",
            "Iteration 17, loss = 0.07506555\n",
            "Iteration 18, loss = 0.09043424\n",
            "Iteration 19, loss = 0.06684996\n",
            "Iteration 20, loss = 0.06998248\n",
            "Iteration 21, loss = 0.08891754\n",
            "Iteration 22, loss = 0.09415411\n",
            "Iteration 23, loss = 0.08512865\n",
            "Iteration 24, loss = 0.09203514\n",
            "Iteration 25, loss = 0.10473809\n",
            "Iteration 26, loss = 0.10295127\n",
            "Iteration 27, loss = 0.08207613\n",
            "Iteration 28, loss = 0.10182883\n",
            "Iteration 29, loss = 0.08826684\n",
            "Iteration 30, loss = 0.07109128\n",
            "Training loss did not improve more than tol=0.000100 for 10 consecutive epochs. Stopping.\n",
            "Iteration 1, loss = 4.28856476\n",
            "Iteration 2, loss = 1.06699342\n",
            "Iteration 3, loss = 0.58933541\n",
            "Iteration 4, loss = 0.42486409\n",
            "Iteration 5, loss = 0.31822982\n",
            "Iteration 6, loss = 0.25748828\n",
            "Iteration 7, loss = 0.21190668\n",
            "Iteration 8, loss = 0.18426048\n",
            "Iteration 9, loss = 0.16056098\n",
            "Iteration 10, loss = 0.13743094\n",
            "Iteration 11, loss = 0.12612118\n",
            "Iteration 12, loss = 0.11785752\n",
            "Iteration 13, loss = 0.11643471\n",
            "Iteration 14, loss = 0.11232763\n",
            "Iteration 15, loss = 0.10149632\n",
            "Iteration 16, loss = 0.09217084\n",
            "Iteration 17, loss = 0.10062356\n",
            "Iteration 18, loss = 0.09441611\n",
            "Iteration 19, loss = 0.09355080\n",
            "Iteration 20, loss = 0.08294204\n",
            "Iteration 21, loss = 0.08437250\n",
            "Iteration 22, loss = 0.08225547\n",
            "Iteration 23, loss = 0.07869453\n",
            "Iteration 24, loss = 0.07537341\n",
            "Iteration 25, loss = 0.08076115\n",
            "Iteration 26, loss = 0.06929935\n",
            "Iteration 27, loss = 0.08232712\n",
            "Iteration 28, loss = 0.08076023\n",
            "Iteration 29, loss = 0.06623160\n",
            "Iteration 30, loss = 0.06463301\n",
            "Iteration 31, loss = 0.06605625\n",
            "Iteration 32, loss = 0.07037810\n",
            "Iteration 33, loss = 0.07337637\n",
            "Iteration 34, loss = 0.06654993\n",
            "Iteration 35, loss = 0.07554653\n",
            "Iteration 36, loss = 0.06320514\n",
            "Iteration 37, loss = 0.06233531\n",
            "Iteration 38, loss = 0.06446358\n",
            "Iteration 39, loss = 0.07030044\n",
            "Iteration 40, loss = 0.05618334\n",
            "Iteration 41, loss = 0.06440164\n",
            "Iteration 42, loss = 0.05325030\n",
            "Iteration 43, loss = 0.05345518\n",
            "Iteration 44, loss = 0.04844903\n",
            "Iteration 45, loss = 0.04071235\n",
            "Iteration 46, loss = 0.05133030\n",
            "Iteration 47, loss = 0.05311581\n",
            "Iteration 48, loss = 0.04647381\n",
            "Iteration 49, loss = 0.05525568\n",
            "Iteration 50, loss = 0.05381465\n",
            "Iteration 51, loss = 0.04445167\n",
            "Iteration 52, loss = 0.04195147\n",
            "Iteration 53, loss = 0.03716041\n",
            "Iteration 54, loss = 0.04480653\n",
            "Iteration 55, loss = 0.04776088\n",
            "Iteration 56, loss = 0.03385620\n",
            "Iteration 57, loss = 0.03425890\n",
            "Iteration 58, loss = 0.03526256\n",
            "Iteration 59, loss = 0.05827746\n",
            "Iteration 60, loss = 0.05749008\n",
            "Iteration 61, loss = 0.04079918\n",
            "Iteration 62, loss = 0.04708019\n",
            "Iteration 63, loss = 0.03203562\n",
            "Iteration 64, loss = 0.02936514\n",
            "Iteration 65, loss = 0.02609306\n",
            "Iteration 66, loss = 0.03358365\n",
            "Iteration 67, loss = 0.05237568\n",
            "Iteration 68, loss = 0.04762660\n",
            "Iteration 69, loss = 0.05241045\n",
            "Iteration 70, loss = 0.03813479\n",
            "Iteration 71, loss = 0.02768790\n",
            "Iteration 72, loss = 0.02928221\n",
            "Iteration 73, loss = 0.03098027\n",
            "Iteration 74, loss = 0.02495071\n",
            "Iteration 75, loss = 0.02046794\n",
            "Iteration 76, loss = 0.02799525\n",
            "Iteration 77, loss = 0.04777971\n",
            "Iteration 78, loss = 0.03629537\n",
            "Iteration 79, loss = 0.04121701\n",
            "Iteration 80, loss = 0.04779238\n",
            "Iteration 81, loss = 0.04406195\n",
            "Iteration 82, loss = 0.03539938\n",
            "Iteration 83, loss = 0.03431131\n",
            "Iteration 84, loss = 0.03842490\n",
            "Iteration 85, loss = 0.03791749\n",
            "Iteration 86, loss = 0.01790265\n",
            "Iteration 87, loss = 0.01459276\n",
            "Iteration 88, loss = 0.03501785\n",
            "Iteration 89, loss = 0.03614236\n",
            "Iteration 90, loss = 0.03568387\n",
            "Iteration 91, loss = 0.03048784\n",
            "Iteration 92, loss = 0.03768034\n",
            "Iteration 93, loss = 0.04854936\n",
            "Iteration 94, loss = 0.02936778\n",
            "Iteration 95, loss = 0.02047499\n",
            "Iteration 96, loss = 0.02402490\n",
            "Iteration 97, loss = 0.03308884\n",
            "Iteration 98, loss = 0.02463495\n",
            "Training loss did not improve more than tol=0.000100 for 10 consecutive epochs. Stopping.\n",
            "Iteration 1, loss = 4.35995728\n",
            "Iteration 2, loss = 1.22903794\n",
            "Iteration 3, loss = 0.69302026\n",
            "Iteration 4, loss = 0.45128878\n",
            "Iteration 5, loss = 0.31130102\n",
            "Iteration 6, loss = 0.24097683\n",
            "Iteration 7, loss = 0.19185331\n",
            "Iteration 8, loss = 0.16516073\n",
            "Iteration 9, loss = 0.13579288\n",
            "Iteration 10, loss = 0.10974302\n",
            "Iteration 11, loss = 0.10042150\n",
            "Iteration 12, loss = 0.09567711\n",
            "Iteration 13, loss = 0.09976534\n",
            "Iteration 14, loss = 0.08560367\n",
            "Iteration 15, loss = 0.08713035\n",
            "Iteration 16, loss = 0.10400695\n",
            "Iteration 17, loss = 0.08725148\n",
            "Iteration 18, loss = 0.08183603\n",
            "Iteration 19, loss = 0.08583794\n",
            "Iteration 20, loss = 0.09155876\n",
            "Iteration 21, loss = 0.08899364\n",
            "Iteration 22, loss = 0.08750581\n",
            "Iteration 23, loss = 0.07899974\n",
            "Iteration 24, loss = 0.07862879\n",
            "Iteration 25, loss = 0.10839538\n",
            "Iteration 26, loss = 0.07822775\n",
            "Iteration 27, loss = 0.06433710\n",
            "Iteration 28, loss = 0.07234756\n",
            "Iteration 29, loss = 0.07939334\n",
            "Iteration 30, loss = 0.07603966\n",
            "Iteration 31, loss = 0.06729521\n",
            "Iteration 32, loss = 0.06854661\n",
            "Iteration 33, loss = 0.06767924\n",
            "Iteration 34, loss = 0.07793926\n",
            "Iteration 35, loss = 0.06640841\n",
            "Iteration 36, loss = 0.06126140\n",
            "Iteration 37, loss = 0.06829050\n",
            "Iteration 38, loss = 0.06453939\n",
            "Iteration 39, loss = 0.05541301\n",
            "Iteration 40, loss = 0.06564858\n",
            "Iteration 41, loss = 0.05719085\n",
            "Iteration 42, loss = 0.06062044\n",
            "Iteration 43, loss = 0.05917135\n",
            "Iteration 44, loss = 0.06084349\n",
            "Iteration 45, loss = 0.05112906\n",
            "Iteration 46, loss = 0.04610429\n",
            "Iteration 47, loss = 0.03672846\n",
            "Iteration 48, loss = 0.05033843\n",
            "Iteration 49, loss = 0.04415191\n",
            "Iteration 50, loss = 0.05226688\n",
            "Iteration 51, loss = 0.05258354\n",
            "Iteration 52, loss = 0.05616107\n",
            "Iteration 53, loss = 0.03668898\n",
            "Iteration 54, loss = 0.04356347\n",
            "Iteration 55, loss = 0.05701417\n",
            "Iteration 56, loss = 0.06214853\n",
            "Iteration 57, loss = 0.04988196\n",
            "Iteration 58, loss = 0.04705886\n",
            "Training loss did not improve more than tol=0.000100 for 10 consecutive epochs. Stopping.\n",
            "Iteration 1, loss = 4.35489072\n",
            "Iteration 2, loss = 1.46914178\n",
            "Iteration 3, loss = 0.93194264\n",
            "Iteration 4, loss = 0.63685651\n",
            "Iteration 5, loss = 0.45239993\n"
          ]
        },
        {
          "output_type": "stream",
          "name": "stderr",
          "text": [
            "/usr/local/lib/python3.10/dist-packages/sklearn/neural_network/_multilayer_perceptron.py:698: UserWarning: Training interrupted by user.\n",
            "  warnings.warn(\"Training interrupted by user.\")\n"
          ]
        },
        {
          "output_type": "stream",
          "name": "stdout",
          "text": [
            "Iteration 1, loss = 3.60724916\n",
            "Iteration 2, loss = 1.21126223\n",
            "Iteration 3, loss = 0.67578392\n",
            "Iteration 4, loss = 0.44588951\n",
            "Iteration 5, loss = 0.32835048\n",
            "Iteration 6, loss = 0.24930089\n",
            "Iteration 7, loss = 0.19314316\n"
          ]
        },
        {
          "output_type": "stream",
          "name": "stderr",
          "text": [
            "/usr/local/lib/python3.10/dist-packages/sklearn/neural_network/_multilayer_perceptron.py:698: UserWarning: Training interrupted by user.\n",
            "  warnings.warn(\"Training interrupted by user.\")\n"
          ]
        },
        {
          "output_type": "display_data",
          "data": {
            "text/plain": [
              "<Figure size 640x480 with 1 Axes>"
            ],
            "image/png": "[encoded data removed]"
          },
          "metadata": {}
        }
      ],
      "source": [
        "from mlxtend.plotting import plot_learning_curves    # plot_learning_curves 불러오기\n",
        "\n",
        "plot_learning_curves(X_train, y_train, X_test, y_test, # plot_learning_curves 실행, 모델의 정확도 평가\n",
        "                     model, scoring='accuracy')\n",
        "plt.show()"
      ]
    },
    {
      "cell_type": "markdown",
      "source": [
        "# **[해보기-⑪⑫⑬] 학습한 모델을 가지고 데이터를 입력하고 결과값(레이블, 카테고리)을 예측**"
      ],
      "metadata": {
        "id": "Nr6Gw9EMkEiI"
      }
    },
    {
      "cell_type": "code",
      "source": [
        "print(y_train[200])             # 학습데이터 201번째의 실제 정답 레이블\n",
        "y_predict=model.predict(X_train[200].reshape(1, -1))             # 학습한 모델을 이용한 201번째 데이터의 레이블 예측\n",
        "print(y_predict)             # 예측한 레이블 출력\n",
        "\n",
        "print(y_train[300])\n",
        "y_predict = model.predict(X_train[300].reshape(1,-1))\n",
        "print(y_predict)\n",
        "\n",
        "print(X_train[300].shape,(X_train[300].reshape(1,-1)).shape) # shape출력"
      ],
      "metadata": {
        "colab": {
          "base_uri": "https://localhost:8080/"
        },
        "id": "QzlJBnMwJInA",
        "outputId": "f8c04014-db35-4579-b6c5-84da028ea45a"
      },
      "execution_count": 12,
      "outputs": [
        {
          "output_type": "stream",
          "name": "stdout",
          "text": [
            "0\n",
            "['0']\n",
            "5\n",
            "['5']\n",
            "(784,) (1, 784)\n"
          ]
        }
      ]
    },
    {
      "cell_type": "markdown",
      "source": [
        "# **구글 드라이브 연동**"
      ],
      "metadata": {
        "id": "LXhluQzVZx_Q"
      }
    },
    {
      "cell_type": "code",
      "source": [
        "from google.colab import drive\n",
        "drive.mount('/gdrive', force_remount=True)"
      ],
      "metadata": {
        "colab": {
          "base_uri": "https://localhost:8080/",
          "height": 315
        },
        "id": "iHDbuiGFSQxq",
        "outputId": "3f91f1e2-2a0c-480f-d3c3-f6c80df64d59"
      },
      "execution_count": 14,
      "outputs": [
        {
          "output_type": "error",
          "ename": "MessageError",
          "evalue": "Error: credential propagation was unsuccessful",
          "traceback": [
            "\u001b[0;31m---------------------------------------------------------------------------\u001b[0m",
            "\u001b[0;31mMessageError\u001b[0m                              Traceback (most recent call last)",
            "\u001b[0;32m<ipython-input-14-13c970785f50>\u001b[0m in \u001b[0;36m<cell line: 2>\u001b[0;34m()\u001b[0m\n\u001b[1;32m      1\u001b[0m \u001b[0;32mfrom\u001b[0m \u001b[0mgoogle\u001b[0m\u001b[0;34m.\u001b[0m\u001b[0mcolab\u001b[0m \u001b[0;32mimport\u001b[0m \u001b[0mdrive\u001b[0m\u001b[0;34m\u001b[0m\u001b[0;34m\u001b[0m\u001b[0m\n\u001b[0;32m----> 2\u001b[0;31m \u001b[0mdrive\u001b[0m\u001b[0;34m.\u001b[0m\u001b[0mmount\u001b[0m\u001b[0;34m(\u001b[0m\u001b[0;34m'/gdrive'\u001b[0m\u001b[0;34m,\u001b[0m \u001b[0mforce_remount\u001b[0m\u001b[0;34m=\u001b[0m\u001b[0;32mTrue\u001b[0m\u001b[0;34m)\u001b[0m\u001b[0;34m\u001b[0m\u001b[0;34m\u001b[0m\u001b[0m\n\u001b[0m",
            "\u001b[0;32m/usr/local/lib/python3.10/dist-packages/google/colab/drive.py\u001b[0m in \u001b[0;36mmount\u001b[0;34m(mountpoint, force_remount, timeout_ms, readonly)\u001b[0m\n\u001b[1;32m     98\u001b[0m \u001b[0;32mdef\u001b[0m \u001b[0mmount\u001b[0m\u001b[0;34m(\u001b[0m\u001b[0mmountpoint\u001b[0m\u001b[0;34m,\u001b[0m \u001b[0mforce_remount\u001b[0m\u001b[0;34m=\u001b[0m\u001b[0;32mFalse\u001b[0m\u001b[0;34m,\u001b[0m \u001b[0mtimeout_ms\u001b[0m\u001b[0;34m=\u001b[0m\u001b[0;36m120000\u001b[0m\u001b[0;34m,\u001b[0m \u001b[0mreadonly\u001b[0m\u001b[0;34m=\u001b[0m\u001b[0;32mFalse\u001b[0m\u001b[0;34m)\u001b[0m\u001b[0;34m:\u001b[0m\u001b[0;34m\u001b[0m\u001b[0;34m\u001b[0m\u001b[0m\n\u001b[1;32m     99\u001b[0m   \u001b[0;34m\"\"\"Mount your Google Drive at the specified mountpoint path.\"\"\"\u001b[0m\u001b[0;34m\u001b[0m\u001b[0;34m\u001b[0m\u001b[0m\n\u001b[0;32m--> 100\u001b[0;31m   return _mount(\n\u001b[0m\u001b[1;32m    101\u001b[0m       \u001b[0mmountpoint\u001b[0m\u001b[0;34m,\u001b[0m\u001b[0;34m\u001b[0m\u001b[0;34m\u001b[0m\u001b[0m\n\u001b[1;32m    102\u001b[0m       \u001b[0mforce_remount\u001b[0m\u001b[0;34m=\u001b[0m\u001b[0mforce_remount\u001b[0m\u001b[0;34m,\u001b[0m\u001b[0;34m\u001b[0m\u001b[0;34m\u001b[0m\u001b[0m\n",
            "\u001b[0;32m/usr/local/lib/python3.10/dist-packages/google/colab/drive.py\u001b[0m in \u001b[0;36m_mount\u001b[0;34m(mountpoint, force_remount, timeout_ms, ephemeral, readonly)\u001b[0m\n\u001b[1;32m    131\u001b[0m   )\n\u001b[1;32m    132\u001b[0m   \u001b[0;32mif\u001b[0m \u001b[0mephemeral\u001b[0m\u001b[0;34m:\u001b[0m\u001b[0;34m\u001b[0m\u001b[0;34m\u001b[0m\u001b[0m\n\u001b[0;32m--> 133\u001b[0;31m     _message.blocking_request(\n\u001b[0m\u001b[1;32m    134\u001b[0m         \u001b[0;34m'request_auth'\u001b[0m\u001b[0;34m,\u001b[0m\u001b[0;34m\u001b[0m\u001b[0;34m\u001b[0m\u001b[0m\n\u001b[1;32m    135\u001b[0m         \u001b[0mrequest\u001b[0m\u001b[0;34m=\u001b[0m\u001b[0;34m{\u001b[0m\u001b[0;34m'authType'\u001b[0m\u001b[0;34m:\u001b[0m \u001b[0;34m'dfs_ephemeral'\u001b[0m\u001b[0;34m}\u001b[0m\u001b[0;34m,\u001b[0m\u001b[0;34m\u001b[0m\u001b[0;34m\u001b[0m\u001b[0m\n",
            "\u001b[0;32m/usr/local/lib/python3.10/dist-packages/google/colab/_message.py\u001b[0m in \u001b[0;36mblocking_request\u001b[0;34m(request_type, request, timeout_sec, parent)\u001b[0m\n\u001b[1;32m    174\u001b[0m       \u001b[0mrequest_type\u001b[0m\u001b[0;34m,\u001b[0m \u001b[0mrequest\u001b[0m\u001b[0;34m,\u001b[0m \u001b[0mparent\u001b[0m\u001b[0;34m=\u001b[0m\u001b[0mparent\u001b[0m\u001b[0;34m,\u001b[0m \u001b[0mexpect_reply\u001b[0m\u001b[0;34m=\u001b[0m\u001b[0;32mTrue\u001b[0m\u001b[0;34m\u001b[0m\u001b[0;34m\u001b[0m\u001b[0m\n\u001b[1;32m    175\u001b[0m   )\n\u001b[0;32m--> 176\u001b[0;31m   \u001b[0;32mreturn\u001b[0m \u001b[0mread_reply_from_input\u001b[0m\u001b[0;34m(\u001b[0m\u001b[0mrequest_id\u001b[0m\u001b[0;34m,\u001b[0m \u001b[0mtimeout_sec\u001b[0m\u001b[0;34m)\u001b[0m\u001b[0;34m\u001b[0m\u001b[0;34m\u001b[0m\u001b[0m\n\u001b[0m",
            "\u001b[0;32m/usr/local/lib/python3.10/dist-packages/google/colab/_message.py\u001b[0m in \u001b[0;36mread_reply_from_input\u001b[0;34m(message_id, timeout_sec)\u001b[0m\n\u001b[1;32m    101\u001b[0m     ):\n\u001b[1;32m    102\u001b[0m       \u001b[0;32mif\u001b[0m \u001b[0;34m'error'\u001b[0m \u001b[0;32min\u001b[0m \u001b[0mreply\u001b[0m\u001b[0;34m:\u001b[0m\u001b[0;34m\u001b[0m\u001b[0;34m\u001b[0m\u001b[0m\n\u001b[0;32m--> 103\u001b[0;31m         \u001b[0;32mraise\u001b[0m \u001b[0mMessageError\u001b[0m\u001b[0;34m(\u001b[0m\u001b[0mreply\u001b[0m\u001b[0;34m[\u001b[0m\u001b[0;34m'error'\u001b[0m\u001b[0;34m]\u001b[0m\u001b[0;34m)\u001b[0m\u001b[0;34m\u001b[0m\u001b[0;34m\u001b[0m\u001b[0m\n\u001b[0m\u001b[1;32m    104\u001b[0m       \u001b[0;32mreturn\u001b[0m \u001b[0mreply\u001b[0m\u001b[0;34m.\u001b[0m\u001b[0mget\u001b[0m\u001b[0;34m(\u001b[0m\u001b[0;34m'data'\u001b[0m\u001b[0;34m,\u001b[0m \u001b[0;32mNone\u001b[0m\u001b[0;34m)\u001b[0m\u001b[0;34m\u001b[0m\u001b[0;34m\u001b[0m\u001b[0m\n\u001b[1;32m    105\u001b[0m \u001b[0;34m\u001b[0m\u001b[0m\n",
            "\u001b[0;31mMessageError\u001b[0m: Error: credential propagation was unsuccessful"
          ]
        }
      ]
    },
    {
      "cell_type": "markdown",
      "source": [
        "# **구글드라이브 내디렉토리 밑에 mlp디렉토리를 만들고 그 디렉토리에 학습시킨 모델을 mlp_model.pkl로 저장**"
      ],
      "metadata": {
        "id": "4r9ObwqiZ5IR"
      }
    },
    {
      "cell_type": "code",
      "source": [
        "import joblib\n",
        "joblib.dump(model, '/5.jpeg')"
      ],
      "metadata": {
        "colab": {
          "base_uri": "https://localhost:8080/"
        },
        "id": "4SassyqKRmeW",
        "outputId": "b0ce4451-2efd-48a9-887f-f7963561d007"
      },
      "execution_count": 33,
      "outputs": [
        {
          "output_type": "execute_result",
          "data": {
            "text/plain": [
              "['/5.jpeg']"
            ]
          },
          "metadata": {},
          "execution_count": 33
        }
      ]
    },
    {
      "cell_type": "markdown",
      "source": [
        "# **[해보기-⑭] 저장된 모델 불러오기**"
      ],
      "metadata": {
        "id": "y6jpQMDAaNB1"
      }
    },
    {
      "cell_type": "code",
      "source": [
        "model1=joblib.load('/5.jpeg') #mlp디렉토리에 저장된 모델을 불러와서 model로 지정"
      ],
      "metadata": {
        "id": "YVR7cGk-TTiC"
      },
      "execution_count": 34,
      "outputs": []
    },
    {
      "cell_type": "markdown",
      "source": [
        "# **불러온 모델의 성능 평가**"
      ],
      "metadata": {
        "id": "Ni7A1a8npCUy"
      }
    },
    {
      "cell_type": "code",
      "source": [
        "model.score(X_test, y_test) #테스트 데이터와 테스트 데이터 정답을 이용"
      ],
      "metadata": {
        "colab": {
          "base_uri": "https://localhost:8080/"
        },
        "id": "YbtVWvfYTay3",
        "outputId": "a789037c-286f-4e43-91d6-9e1cdfb44797"
      },
      "execution_count": 35,
      "outputs": [
        {
          "output_type": "execute_result",
          "data": {
            "text/plain": [
              "0.9394285714285714"
            ]
          },
          "metadata": {},
          "execution_count": 35
        }
      ]
    },
    {
      "cell_type": "markdown",
      "source": [
        "# **폰으로 숫자를 만들어 이미지로 저장하고 불러오기 위한 이미지 처리를 위한 opencv설치**"
      ],
      "metadata": {
        "id": "hRVauHMfxNtP"
      }
    },
    {
      "cell_type": "code",
      "source": [
        "!pip install opencv-python"
      ],
      "metadata": {
        "colab": {
          "base_uri": "https://localhost:8080/"
        },
        "id": "EOFzaWF3V-su",
        "outputId": "32a642d1-2169-460a-8343-cf2c95e61527"
      },
      "execution_count": 36,
      "outputs": [
        {
          "output_type": "stream",
          "name": "stdout",
          "text": [
            "Requirement already satisfied: opencv-python in /usr/local/lib/python3.10/dist-packages (4.10.0.84)\n",
            "Requirement already satisfied: numpy>=1.21.2 in /usr/local/lib/python3.10/dist-packages (from opencv-python) (1.26.4)\n"
          ]
        }
      ]
    },
    {
      "cell_type": "markdown",
      "source": [
        "# **[해보기-⑮]테스트해 볼 숫자 이미지를 mlp디렉토리에 upload후 MNIST데이타에서 학습시킨 조건에 맞게 변화시킴 (27x27)사이즈로 resize한 후 1차원 벡터로**"
      ],
      "metadata": {
        "id": "6C8-m-DEaUiy"
      }
    },
    {
      "cell_type": "code",
      "source": [
        "import cv2\n",
        "import numpy as np\n",
        "import matplotlib.pyplot as plt\n",
        "\n",
        "# 이미지 로드\n",
        "img1 = cv2.imread('/1.jpeg', cv2.IMREAD_GRAYSCALE)\n",
        "img2 = cv2.imread('/2.jpeg', cv2.IMREAD_GRAYSCALE)\n",
        "img3 = cv2.imread('/3.jpeg', cv2.IMREAD_GRAYSCALE)\n",
        "img4 = cv2.imread('/4.jpeg', cv2.IMREAD_GRAYSCALE)\n",
        "img5 = cv2.imread('/5.jpeg', cv2.IMREAD_GRAYSCALE)\n",
        "img8 = cv2.imread('/8.jpeg', cv2.IMREAD_GRAYSCALE)\n",
        "\n",
        "# 이진화 처리 (임계값을 130으로 설정)\n",
        "ret, binary1 = cv2.threshold(img1, 130, 255, cv2.THRESH_BINARY_INV)\n",
        "ret, binary2 = cv2.threshold(img2, 130, 255, cv2.THRESH_BINARY_INV)\n",
        "ret, binary3 = cv2.threshold(img3, 130, 255, cv2.THRESH_BINARY_INV)\n",
        "ret, binary4 = cv2.threshold(img4, 130, 255, cv2.THRESH_BINARY_INV)\n",
        "ret, binary5 = cv2.threshold(img5, 130, 255, cv2.THRESH_BINARY_INV)\n",
        "ret, binary8 = cv2.threshold(img8, 130, 255, cv2.THRESH_BINARY_INV)\n",
        "\n",
        "# 크기 조정 및 정규화\n",
        "img1_r = cv2.resize(binary1, (28, 28), interpolation=cv2.INTER_AREA)\n",
        "img2_r = cv2.resize(binary2, (28, 28), interpolation=cv2.INTER_AREA)\n",
        "img3_r = cv2.resize(binary3, (28, 28), interpolation=cv2.INTER_AREA)\n",
        "img4_r = cv2.resize(binary4, (28, 28), interpolation=cv2.INTER_AREA)\n",
        "img5_r = cv2.resize(binary5, (28, 28), interpolation=cv2.INTER_AREA)\n",
        "img8_r = cv2.resize(binary8, (28, 28), interpolation=cv2.INTER_AREA)\n",
        "\n"
      ],
      "metadata": {
        "id": "dA6bmfyQ-U1W"
      },
      "execution_count": 40,
      "outputs": []
    },
    {
      "cell_type": "markdown",
      "source": [
        "##**resize한 숫자 이미지를 pyplot을 이용해서 화면에 출력**"
      ],
      "metadata": {
        "id": "HFnLtgth6nzE"
      }
    },
    {
      "cell_type": "code",
      "source": [
        "\n",
        "# 시각화\n",
        "plt.figure(figsize=(10, 5))\n",
        "\n",
        "plt.subplot(3, 3, 1)\n",
        "plt.title('The number 1')\n",
        "plt.imshow(img1_r, cmap='gray')\n",
        "\n",
        "plt.subplot(3, 3, 2)\n",
        "plt.title('The number 2')\n",
        "plt.imshow(img2_r, cmap='gray')\n",
        "\n",
        "plt.subplot(3, 3, 3)\n",
        "plt.title('The number 3')\n",
        "plt.imshow(img3_r, cmap='gray')\n",
        "\n",
        "plt.subplot(3, 3, 7)\n",
        "plt.title('The number 4')\n",
        "plt.imshow(img4_r, cmap='gray')\n",
        "\n",
        "plt.subplot(3, 3, 8)\n",
        "plt.title('The number 5')\n",
        "plt.imshow(img5_r, cmap='gray')\n",
        "\n",
        "plt.subplot(3, 3, 9)\n",
        "plt.title('The number 8')\n",
        "plt.imshow(img8_r, cmap='gray')\n",
        "\n",
        "plt.show()"
      ],
      "metadata": {
        "colab": {
          "base_uri": "https://localhost:8080/",
          "height": 468
        },
        "id": "zwIvBjeLyBRv",
        "outputId": "c6c7025f-9368-4c6b-8d12-3916da975cb0"
      },
      "execution_count": 42,
      "outputs": [
        {
          "output_type": "display_data",
          "data": {
            "text/plain": [
              "<Figure size 1000x500 with 6 Axes>"
            ],
            "image/png": "[encoded data removed]"
          },
          "metadata": {}
        }
      ]
    },
    {
      "cell_type": "markdown",
      "source": [
        "# **[해보기-⑯] 불러온 학습된 모델을 이용해 업로드한 숫자 이미지를 분류**"
      ],
      "metadata": {
        "id": "YqHrM1zdx0NP"
      }
    },
    {
      "cell_type": "code",
      "source": [
        "# 예측 실행\n",
        "y1_predict = model.predict(img1_r.reshape(1,-1))\n",
        "y2_predict = model.predict(img2_r.reshape(1,-1))\n",
        "y3_predict = model.predict(img3_r.reshape(1,-1))\n",
        "y4_predict = model.predict(img4_r.reshape(1,-1))\n",
        "y5_predict = model.predict(img5_r.reshape(1,-1))\n",
        "y8_predict = model.predict(img8_r.reshape(1,-1))"
      ],
      "metadata": {
        "id": "csQM8NV3xsm8"
      },
      "execution_count": 43,
      "outputs": []
    },
    {
      "cell_type": "markdown",
      "source": [
        "# **[해보기-⑰] 예측된 카테고리(레이블)을 출력**"
      ],
      "metadata": {
        "id": "ljDia4Cc7cm1"
      }
    },
    {
      "cell_type": "code",
      "source": [
        "# 예측 결과 출력\n",
        "print(\"Predicted class for img1:\", y1_predict)\n",
        "print(\"Predicted class for img2:\", y2_predict)\n",
        "print(\"Predicted class for img3:\", y3_predict)\n",
        "print(\"Predicted class for img4:\", y4_predict)\n",
        "print(\"Predicted class for img5:\", y5_predict)\n",
        "print(\"Predicted class for img8:\", y8_predict)"
      ],
      "metadata": {
        "colab": {
          "base_uri": "https://localhost:8080/"
        },
        "id": "DphdBBB87Zdp",
        "outputId": "c77d9412-bd39-4ea3-bdcc-5bc5706e4e90"
      },
      "execution_count": 45,
      "outputs": [
        {
          "output_type": "stream",
          "name": "stdout",
          "text": [
            "Predicted class for img1: ['6']\n",
            "Predicted class for img2: ['2']\n",
            "Predicted class for img3: ['3']\n",
            "Predicted class for img4: ['4']\n",
            "Predicted class for img5: ['5']\n",
            "Predicted class for img8: ['8']\n"
          ]
        }
      ]
    }
  ],
  "metadata": {
    "accelerator": "GPU",
    "colab": {
      "gpuType": "T4",
      "machine_shape": "hm",
      "provenance": [],
      "include_colab_link": true
    },
    "kernelspec": {
      "display_name": "Python 3",
      "name": "python3"
    }
  },
  "nbformat": 4,
  "nbformat_minor": 0
}